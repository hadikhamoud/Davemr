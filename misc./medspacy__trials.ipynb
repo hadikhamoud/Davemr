{
 "cells": [
  {
   "cell_type": "code",
   "execution_count": 3,
   "metadata": {},
   "outputs": [
    {
     "data": {
      "text/html": [
       "<span class=\"tex2jax_ignore\"><svg xmlns=\"http://www.w3.org/2000/svg\" xmlns:xlink=\"http://www.w3.org/1999/xlink\" xml:lang=\"en\" id=\"46134fa1f17d402da266fafeea5a76c4-0\" class=\"displacy\" width=\"925\" height=\"137.0\" direction=\"ltr\" style=\"max-width: none; height: 137.0px; color: #000000; background: #ffffff; font-family: Arial; direction: ltr\">\n",
       "<text class=\"displacy-token\" fill=\"currentColor\" text-anchor=\"middle\" y=\"47.0\">\n",
       "    <tspan class=\"displacy-word\" fill=\"currentColor\" x=\"50\">The</tspan>\n",
       "    <tspan class=\"displacy-tag\" dy=\"2em\" fill=\"currentColor\" x=\"50\"></tspan>\n",
       "</text>\n",
       "\n",
       "<text class=\"displacy-token\" fill=\"currentColor\" text-anchor=\"middle\" y=\"47.0\">\n",
       "    <tspan class=\"displacy-word\" fill=\"currentColor\" x=\"225\">patient</tspan>\n",
       "    <tspan class=\"displacy-tag\" dy=\"2em\" fill=\"currentColor\" x=\"225\"></tspan>\n",
       "</text>\n",
       "\n",
       "<text class=\"displacy-token\" fill=\"currentColor\" text-anchor=\"middle\" y=\"47.0\">\n",
       "    <tspan class=\"displacy-word\" fill=\"currentColor\" x=\"400\">denies</tspan>\n",
       "    <tspan class=\"displacy-tag\" dy=\"2em\" fill=\"currentColor\" x=\"400\">NEGATED_EXISTENCE</tspan>\n",
       "</text>\n",
       "\n",
       "<text class=\"displacy-token\" fill=\"currentColor\" text-anchor=\"middle\" y=\"47.0\">\n",
       "    <tspan class=\"displacy-word\" fill=\"currentColor\" x=\"575\">any</tspan>\n",
       "    <tspan class=\"displacy-tag\" dy=\"2em\" fill=\"currentColor\" x=\"575\"></tspan>\n",
       "</text>\n",
       "\n",
       "<text class=\"displacy-token\" fill=\"currentColor\" text-anchor=\"middle\" y=\"47.0\">\n",
       "    <tspan class=\"displacy-word\" fill=\"currentColor\" x=\"750\">nausea</tspan>\n",
       "    <tspan class=\"displacy-tag\" dy=\"2em\" fill=\"currentColor\" x=\"750\"></tspan>\n",
       "</text>\n",
       "</svg></span>"
      ],
      "text/plain": [
       "<IPython.core.display.HTML object>"
      ]
     },
     "metadata": {},
     "output_type": "display_data"
    }
   ],
   "source": [
    "import spacy; import medspacy\n",
    "# # Option 1: Load default\n",
    "# #import context from medspacy\n",
    "# #nlp = spacy.load(\"en_core_web_sm\")\n",
    "# #nlp.add_pipe(\"context\")\n",
    "# # Option 2: Load custom\n",
    "# nlp = medspacy.load(enable=[\"context\"])\n",
    "# # Option 3: Load custom with custom config\n",
    "# #nlp = medspacy.load(enable=[\"context\"], config={\"context\": {\"max_length\": 100}})\n",
    "# # Option 4: Load custom with custom config\n",
    "\n",
    "\n",
    "# nlp = medspacy.load()\n",
    "\n",
    "# #call the ConTexT object on a medspacy doc\n",
    "# context = medspacy.Context()\n",
    "# doc = nlp(\"The patient has a history of hypertension and diabetes. She is currently taking lisinopril and metformin.\")\n",
    "# context(doc)\n",
    "\n",
    "\n",
    "#example use case for medspacy ConText\n",
    "\n",
    "#load medspacy\n",
    "import spacy; import medspacy\n",
    "from medspacy.visualization import visualize_dep\n",
    "nlp = medspacy.load(enable=[\"context\"])\n",
    "#call the ConTexT object on a medspacy doc\n",
    "context = medspacy.context.ConText(nlp)\n",
    "doc = nlp(\"The patient denies any nausea\")\n",
    "#context graph\n",
    "visualize_dep(doc)\n"
   ]
  }
 ],
 "metadata": {
  "kernelspec": {
   "display_name": "Python 3.9.7 ('base')",
   "language": "python",
   "name": "python3"
  },
  "language_info": {
   "codemirror_mode": {
    "name": "ipython",
    "version": 3
   },
   "file_extension": ".py",
   "mimetype": "text/x-python",
   "name": "python",
   "nbconvert_exporter": "python",
   "pygments_lexer": "ipython3",
   "version": "3.9.7"
  },
  "orig_nbformat": 4,
  "vscode": {
   "interpreter": {
    "hash": "a7932a10b7fb6ba6b29cbfb1a4024994f5ba5c3671aaf304ca147f468f832f8e"
   }
  }
 },
 "nbformat": 4,
 "nbformat_minor": 2
}
